{
 "cells": [
  {
   "cell_type": "code",
   "execution_count": 1,
   "metadata": {
    "collapsed": false
   },
   "outputs": [
    {
     "name": "stderr",
     "output_type": "stream",
     "text": [
      "/Users/a149174/anaconda/lib/python3.6/site-packages/IPython/html.py:14: ShimWarning: The `IPython.html` package has been deprecated. You should import from `notebook` instead. `IPython.html.widgets` has moved to `ipywidgets`.\n",
      "  \"`IPython.html.widgets` has moved to `ipywidgets`.\", ShimWarning)\n"
     ]
    }
   ],
   "source": [
    "# lasso documentation\n",
    "#http://scikit-learn.org/stable/modules/linear_model.html\n",
    "    \n",
    "# Useful imports\n",
    "import numpy as np\n",
    "import pandas as pd\n",
    "import matplotlib.pyplot as plt\n",
    "import seaborn as sns\n",
    "\n",
    "# Settings for plots\n",
    "%matplotlib inline\n",
    "plt.rcParams['figure.figsize'] = (10.0, 6.0)\n",
    "sns.set_style('whitegrid')\n",
    "\n",
    "#def warn(*args, **kwargs):\n",
    "#    pass\n",
    "#import warnings\n",
    "#warnings.warn = warn"
   ]
  },
  {
   "cell_type": "code",
   "execution_count": 2,
   "metadata": {
    "collapsed": false,
    "scrolled": false
   },
   "outputs": [],
   "source": [
    "df = pd.read_csv('patients.csv')\n",
    "#print(df.info())\n",
    "#df.head()"
   ]
  },
  {
   "cell_type": "code",
   "execution_count": 3,
   "metadata": {
    "collapsed": false
   },
   "outputs": [],
   "source": [
    "# List of column names containing all the features for regression.\n",
    "features = ['Age','Gender','Height','Location','SelfAssessedHealthStatus','Smoker','Weight']\n",
    "# The name of the column for the output varaible.\n",
    "target = 'Systolic'"
   ]
  },
  {
   "cell_type": "code",
   "execution_count": 4,
   "metadata": {
    "collapsed": false,
    "scrolled": false
   },
   "outputs": [
    {
     "data": {
      "text/html": [
       "<div>\n",
       "<table border=\"1\" class=\"dataframe\">\n",
       "  <thead>\n",
       "    <tr style=\"text-align: right;\">\n",
       "      <th></th>\n",
       "      <th>Age</th>\n",
       "      <th>Height</th>\n",
       "      <th>Smoker</th>\n",
       "      <th>Weight</th>\n",
       "      <th>Gender_'Female'</th>\n",
       "      <th>Gender_'Male'</th>\n",
       "      <th>Location_'County General Hospital'</th>\n",
       "      <th>Location_'St. Mary's Medical Center'</th>\n",
       "      <th>Location_'VA Hospital'</th>\n",
       "      <th>SelfAssessedHealthStatus_'Excellent'</th>\n",
       "      <th>SelfAssessedHealthStatus_'Fair'</th>\n",
       "      <th>SelfAssessedHealthStatus_'Good'</th>\n",
       "      <th>SelfAssessedHealthStatus_'Poor'</th>\n",
       "    </tr>\n",
       "  </thead>\n",
       "  <tbody>\n",
       "    <tr>\n",
       "      <th>0</th>\n",
       "      <td>38</td>\n",
       "      <td>71</td>\n",
       "      <td>1</td>\n",
       "      <td>176</td>\n",
       "      <td>0</td>\n",
       "      <td>1</td>\n",
       "      <td>1</td>\n",
       "      <td>0</td>\n",
       "      <td>0</td>\n",
       "      <td>1</td>\n",
       "      <td>0</td>\n",
       "      <td>0</td>\n",
       "      <td>0</td>\n",
       "    </tr>\n",
       "    <tr>\n",
       "      <th>1</th>\n",
       "      <td>43</td>\n",
       "      <td>69</td>\n",
       "      <td>0</td>\n",
       "      <td>163</td>\n",
       "      <td>0</td>\n",
       "      <td>1</td>\n",
       "      <td>0</td>\n",
       "      <td>0</td>\n",
       "      <td>1</td>\n",
       "      <td>0</td>\n",
       "      <td>1</td>\n",
       "      <td>0</td>\n",
       "      <td>0</td>\n",
       "    </tr>\n",
       "    <tr>\n",
       "      <th>2</th>\n",
       "      <td>38</td>\n",
       "      <td>64</td>\n",
       "      <td>0</td>\n",
       "      <td>131</td>\n",
       "      <td>1</td>\n",
       "      <td>0</td>\n",
       "      <td>0</td>\n",
       "      <td>1</td>\n",
       "      <td>0</td>\n",
       "      <td>0</td>\n",
       "      <td>0</td>\n",
       "      <td>1</td>\n",
       "      <td>0</td>\n",
       "    </tr>\n",
       "    <tr>\n",
       "      <th>3</th>\n",
       "      <td>40</td>\n",
       "      <td>67</td>\n",
       "      <td>0</td>\n",
       "      <td>133</td>\n",
       "      <td>1</td>\n",
       "      <td>0</td>\n",
       "      <td>0</td>\n",
       "      <td>0</td>\n",
       "      <td>1</td>\n",
       "      <td>0</td>\n",
       "      <td>1</td>\n",
       "      <td>0</td>\n",
       "      <td>0</td>\n",
       "    </tr>\n",
       "    <tr>\n",
       "      <th>4</th>\n",
       "      <td>49</td>\n",
       "      <td>64</td>\n",
       "      <td>0</td>\n",
       "      <td>119</td>\n",
       "      <td>1</td>\n",
       "      <td>0</td>\n",
       "      <td>1</td>\n",
       "      <td>0</td>\n",
       "      <td>0</td>\n",
       "      <td>0</td>\n",
       "      <td>0</td>\n",
       "      <td>1</td>\n",
       "      <td>0</td>\n",
       "    </tr>\n",
       "  </tbody>\n",
       "</table>\n",
       "</div>"
      ],
      "text/plain": [
       "   Age  Height  Smoker  Weight  Gender_'Female'  Gender_'Male'  \\\n",
       "0   38      71       1     176                0              1   \n",
       "1   43      69       0     163                0              1   \n",
       "2   38      64       0     131                1              0   \n",
       "3   40      67       0     133                1              0   \n",
       "4   49      64       0     119                1              0   \n",
       "\n",
       "   Location_'County General Hospital'  Location_'St. Mary's Medical Center'  \\\n",
       "0                                   1                                     0   \n",
       "1                                   0                                     0   \n",
       "2                                   0                                     1   \n",
       "3                                   0                                     0   \n",
       "4                                   1                                     0   \n",
       "\n",
       "   Location_'VA Hospital'  SelfAssessedHealthStatus_'Excellent'  \\\n",
       "0                       0                                     1   \n",
       "1                       1                                     0   \n",
       "2                       0                                     0   \n",
       "3                       1                                     0   \n",
       "4                       0                                     0   \n",
       "\n",
       "   SelfAssessedHealthStatus_'Fair'  SelfAssessedHealthStatus_'Good'  \\\n",
       "0                                0                                0   \n",
       "1                                1                                0   \n",
       "2                                0                                1   \n",
       "3                                1                                0   \n",
       "4                                0                                1   \n",
       "\n",
       "   SelfAssessedHealthStatus_'Poor'  \n",
       "0                                0  \n",
       "1                                0  \n",
       "2                                0  \n",
       "3                                0  \n",
       "4                                0  "
      ]
     },
     "execution_count": 4,
     "metadata": {},
     "output_type": "execute_result"
    }
   ],
   "source": [
    "# create dummy featurs for categorical\n",
    "df_dummies = pd.get_dummies(df[features])\n",
    "df_dummies.head()"
   ]
  },
  {
   "cell_type": "code",
   "execution_count": 5,
   "metadata": {
    "collapsed": false
   },
   "outputs": [
    {
     "data": {
      "text/plain": [
       "<matplotlib.axes._subplots.AxesSubplot at 0x118609f60>"
      ]
     },
     "execution_count": 5,
     "metadata": {},
     "output_type": "execute_result"
    },
    {
     "data": {
      "image/png": "[encoded data removed]",
      "text/plain": [
       "<matplotlib.figure.Figure at 0x10e2fe2b0>"
      ]
     },
     "metadata": {},
     "output_type": "display_data"
    }
   ],
   "source": [
    "# distribution of output variable\n",
    "sns.countplot(target, data=df, color='steelblue')"
   ]
  },
  {
   "cell_type": "code",
   "execution_count": 6,
   "metadata": {
    "collapsed": false
   },
   "outputs": [
    {
     "name": "stdout",
     "output_type": "stream",
     "text": [
      "Size of training set: 80\n",
      "Size of test set: 20\n"
     ]
    },
    {
     "name": "stderr",
     "output_type": "stream",
     "text": [
      "/Users/a149174/anaconda/lib/python3.6/site-packages/sklearn/cross_validation.py:44: DeprecationWarning: This module was deprecated in version 0.18 in favor of the model_selection module into which all the refactored classes and functions are moved. Also note that the interface of the new CV iterators are different from that of this module. This module will be removed in 0.20.\n",
      "  \"This module will be removed in 0.20.\", DeprecationWarning)\n"
     ]
    }
   ],
   "source": [
    "# split data into training, test\n",
    "from sklearn.cross_validation import train_test_split\n",
    "\n",
    "x = df_dummies\n",
    "y = df[target]\n",
    "\n",
    "# Divide the data into a training and a test set.\n",
    "random_state = 0  # Fixed so that everybody has got the same split\n",
    "test_set_fraction = 0.2\n",
    "x_train, x_test, y_train, y_test = train_test_split(x, y, test_size=test_set_fraction, \n",
    "                                                    random_state=random_state)\n",
    "\n",
    "print('Size of training set: {}'.format(len(x_train)))\n",
    "print('Size of test set: {}'.format(len(x_test)))"
   ]
  },
  {
   "cell_type": "code",
   "execution_count": 7,
   "metadata": {
    "collapsed": false
   },
   "outputs": [
    {
     "name": "stdout",
     "output_type": "stream",
     "text": [
      "Coefficients [  8.25845164e-02   7.58594340e-02   9.48714662e+00   1.31882202e-03\n",
      "   0.00000000e+00  -0.00000000e+00   7.55067484e-01  -0.00000000e+00\n",
      "  -0.00000000e+00   0.00000000e+00  -3.21216684e+00   1.05671605e-01\n",
      "  -0.00000000e+00]\n",
      "0.493712547937\n"
     ]
    }
   ],
   "source": [
    "from sklearn import linear_model\n",
    "\n",
    "regr = linear_model.Lasso(alpha=0.05,)\n",
    "regr.fit(x_train, y_train)\n",
    "regr.score(x_test, y_test)\n",
    "\n",
    "# Can be used for feature selection\n",
    "print('Coefficients', regr.coef_)\n",
    "\n",
    "print(regr.score(x_test,y_test))\n",
    "\n",
    "coef_keep = np.nonzero(regr.coef_)"
   ]
  },
  {
   "cell_type": "code",
   "execution_count": 8,
   "metadata": {
    "collapsed": false
   },
   "outputs": [
    {
     "name": "stdout",
     "output_type": "stream",
     "text": [
      "Coefficients [ 0.08733502  0.          8.83727768  0.01233084  0.         -0.\n",
      "  0.13494262 -0.         -0.          0.         -2.03619663  0.         -0.        ]\n",
      "model score 0.467682199766\n"
     ]
    }
   ],
   "source": [
    "import numpy as np\n",
    "from sklearn.cross_validation import KFold, cross_val_score\n",
    "from sklearn.linear_model import LassoCV\n",
    "\n",
    "n_lambdas = 100\n",
    "lambdas = np.logspace(-1, 2, n_lambdas)\n",
    "lm = linear_model.LassoCV(cv=10, alphas=lambdas)\n",
    "\n",
    "lm.fit(x_train,y_train)\n",
    "\n",
    "# Can be used for feature selection\n",
    "print('Coefficients', lm.coef_)\n",
    "print('model score', lm.score(x_test,y_test))"
   ]
  },
  {
   "cell_type": "code",
   "execution_count": 9,
   "metadata": {
    "collapsed": false
   },
   "outputs": [
    {
     "data": {
      "text/plain": [
       "{'Age': 0.087335022708830354,\n",
       " \"Gender_'Female'\": 0.0,\n",
       " \"Gender_'Male'\": -0.0,\n",
       " 'Height': 0.0,\n",
       " \"Location_'County General Hospital'\": 0.13494262281020564,\n",
       " \"Location_'St. Mary's Medical Center'\": -0.0,\n",
       " \"Location_'VA Hospital'\": -0.0,\n",
       " \"SelfAssessedHealthStatus_'Excellent'\": 0.0,\n",
       " \"SelfAssessedHealthStatus_'Fair'\": -2.0361966288637796,\n",
       " \"SelfAssessedHealthStatus_'Good'\": 0.0,\n",
       " \"SelfAssessedHealthStatus_'Poor'\": -0.0,\n",
       " 'Smoker': 8.8372776822693115,\n",
       " 'Weight': 0.012330837984517066}"
      ]
     },
     "execution_count": 9,
     "metadata": {},
     "output_type": "execute_result"
    }
   ],
   "source": [
    "coef_dict = {}\n",
    "for coef, feat in zip(lm.coef_,list(df_dummies)):\n",
    "    coef_dict[feat] = coef\n",
    "coef_dict"
   ]
  },
  {
   "cell_type": "code",
   "execution_count": 10,
   "metadata": {
    "collapsed": false
   },
   "outputs": [
    {
     "data": {
      "image/png": "[encoded data removed]",
      "text/plain": [
       "<matplotlib.figure.Figure at 0x11c200550>"
      ]
     },
     "metadata": {},
     "output_type": "display_data"
    }
   ],
   "source": [
    "# Plot the coefficients\n",
    "plt.bar(range(len(list(df_dummies))), lm.coef_)\n",
    "plt.xticks(range(len(df_dummies)), list(df_dummies), rotation=60)\n",
    "plt.margins(0.02)\n",
    "plt.show()\n"
   ]
  },
  {
   "cell_type": "code",
   "execution_count": null,
   "metadata": {
    "collapsed": false,
    "scrolled": false
   },
   "outputs": [],
   "source": [
    "# same as above with LassoCV\n",
    "from sklearn.model_selection import cross_val_score\n",
    "from sklearn.model_selection import KFold\n",
    "from sklearn.linear_model import Lasso\n",
    "from matplotlib.ticker import FormatStrFormatter\n",
    "\n",
    "n_lambdas = 100\n",
    "lambdas = np.logspace(-2, 10, n_lambdas)\n",
    "coefs = []\n",
    "\n",
    "k_fold = KFold(10)\n",
    "coefs=[]\n",
    "lambdas_chart=[]\n",
    "model_scores=[]\n",
    "\n",
    "for a in lambdas:\n",
    "    lasso_cv = Lasso(alpha=a)\n",
    "    for k, (train, test) in enumerate(k_fold.split(x_train, y_train)):\n",
    "        lasso_cv.fit(x_train, y_train)\n",
    "        coefs.append(lasso_cv.coef_)\n",
    "        lambdas_chart.append(lasso_cv.alpha)\n",
    "        model_scores.append(lasso_cv.score(x_test, y_test))\n",
    "\n",
    "ax = plt.gca()\n",
    "plt.gca()\n",
    "ax.plot(lambdas_chart, coefs)\n",
    "#ax.set_xscale('log')\n",
    "ax.set_xlim(ax.get_xlim()[::-1])  # reverse axis\n",
    "ax.yaxis.set_major_formatter(FormatStrFormatter('%.2f'))\n",
    "ax.xaxis.set_major_formatter(FormatStrFormatter('%.2f'))\n",
    "plt.xticks(np.arange(min(lambdas_chart), max(lambdas_chart), .1))\n",
    "plt.legend(x_train.columns)\n",
    "plt.xlabel('lambda')\n",
    "plt.ylabel('coefficients')\n",
    "plt.title('Lasso coefficients as a function of the regularization')\n",
    "plt.show()"
   ]
  },
  {
   "cell_type": "code",
   "execution_count": null,
   "metadata": {
    "collapsed": false
   },
   "outputs": [],
   "source": [
    "feature_index = 2\n",
    "print('feature:',x_train.columns[2])\n",
    "coef_feature_list = []\n",
    "for c in range(0,len(coefs)):\n",
    "    coef_feature_list.append(coefs[c:][0][feature_index])\n",
    "plt.plot(range(0,len(coefs)),coef_feature_list)"
   ]
  },
  {
   "cell_type": "code",
   "execution_count": null,
   "metadata": {
    "collapsed": false
   },
   "outputs": [],
   "source": [
    "print(len(lambdas_chart))\n",
    "print(len(coefs))"
   ]
  },
  {
   "cell_type": "code",
   "execution_count": null,
   "metadata": {
    "collapsed": false
   },
   "outputs": [],
   "source": [
    "n_lambdas = 100\n",
    "lambdas = np.logspace(-2, 1, n_lambdas)\n",
    "print(lambdas)\n",
    "plt.scatter(np.arange(100),lambdas)"
   ]
  },
  {
   "cell_type": "code",
   "execution_count": null,
   "metadata": {
    "collapsed": false
   },
   "outputs": [],
   "source": [
    "plt.scatter(np.arange(2000),model_scores)\n",
    "print('max score on testing data', np.amax(model_scores))\n",
    "itemindex = np.where(model_scores==np.amax(model_scores))\n",
    "print('lambda index with top model score:', itemindex)"
   ]
  },
  {
   "cell_type": "code",
   "execution_count": null,
   "metadata": {
    "collapsed": false
   },
   "outputs": [],
   "source": [
    "print('optimal lambda to maximize model score', lambdas_chart[itemindex[0][0]])"
   ]
  },
  {
   "cell_type": "code",
   "execution_count": null,
   "metadata": {
    "collapsed": false
   },
   "outputs": [],
   "source": [
    "# http://scikit-learn.org/stable/auto_examples/linear_model/plot_lasso_model_selection.html\n",
    "import time\n",
    "# Compute paths\n",
    "print(\"Computing regularization path using the coordinate descent lasso...\")\n",
    "t1 = time.time()\n",
    "model = LassoCV(cv=20).fit(x_train, y_train)\n",
    "t_lasso_cv = time.time() - t1\n",
    "\n",
    "# Display results\n",
    "m_log_alphas = -np.log10(model.alphas_)\n",
    "\n",
    "plt.figure()\n",
    "plt.plot(m_log_alphas, model.mse_path_, ':')\n",
    "plt.plot(m_log_alphas, model.mse_path_.mean(axis=-1), 'k',\n",
    "         label='Average across the folds', linewidth=2)\n",
    "plt.axvline(-np.log10(model.alpha_), linestyle='--', color='k',\n",
    "            label='alpha: CV estimate')\n",
    "\n",
    "plt.legend()\n",
    "\n",
    "plt.xlabel('-log(alpha)')\n",
    "plt.ylabel('Mean square error')\n",
    "plt.title('Mean square error on each fold: coordinate descent '\n",
    "          '(train time: %.2fs)' % t_lasso_cv)\n",
    "#plt.axis('tight')\n",
    "#plt.ylim(ymin, ymax)"
   ]
  },
  {
   "cell_type": "code",
   "execution_count": null,
   "metadata": {
    "collapsed": true
   },
   "outputs": [],
   "source": []
  }
 ],
 "metadata": {
  "kernelspec": {
   "display_name": "Python 3",
   "language": "python",
   "name": "python3"
  },
  "language_info": {
   "codemirror_mode": {
    "name": "ipython",
    "version": 3
   },
   "file_extension": ".py",
   "mimetype": "text/x-python",
   "name": "python",
   "nbconvert_exporter": "python",
   "pygments_lexer": "ipython3",
   "version": "3.6.0"
  }
 },
 "nbformat": 4,
 "nbformat_minor": 2
}
